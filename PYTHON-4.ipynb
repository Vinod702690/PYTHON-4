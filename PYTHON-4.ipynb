{
 "cells": [
  {
   "cell_type": "raw",
   "id": "5909b4e9-64fa-47be-a08d-1ae5851ae5ec",
   "metadata": {},
   "source": [
    "Loops in Python"
   ]
  },
  {
   "cell_type": "code",
   "execution_count": 1,
   "id": "eb363025-bdcd-4865-bb1f-fb5fae4325fe",
   "metadata": {},
   "outputs": [
    {
     "name": "stdout",
     "output_type": "stream",
     "text": [
      "Today is Sunday\n",
      "Today is Sunday\n",
      "Today is Sunday\n"
     ]
    }
   ],
   "source": [
    "print(\"Today is Sunday\")  # 1st time\n",
    "print(\"Today is Sunday\")  # 2nd time\n",
    "...\n",
    "...\n",
    "print(\"Today is Sunday\")  # 100th time"
   ]
  },
  {
   "cell_type": "code",
   "execution_count": 2,
   "id": "5318ba9a-0dcf-463d-998c-0bd53891c08f",
   "metadata": {},
   "outputs": [
    {
     "name": "stdout",
     "output_type": "stream",
     "text": [
      "Today is Sunday\n",
      "Today is Sunday\n",
      "Today is Sunday\n",
      "Today is Sunday\n",
      "Today is Sunday\n",
      "Today is Sunday\n",
      "Today is Sunday\n",
      "Today is Sunday\n",
      "Today is Sunday\n",
      "Today is Sunday\n",
      "Today is Sunday\n",
      "Today is Sunday\n",
      "Today is Sunday\n",
      "Today is Sunday\n",
      "Today is Sunday\n",
      "Today is Sunday\n",
      "Today is Sunday\n",
      "Today is Sunday\n",
      "Today is Sunday\n",
      "Today is Sunday\n",
      "Today is Sunday\n",
      "Today is Sunday\n",
      "Today is Sunday\n",
      "Today is Sunday\n",
      "Today is Sunday\n",
      "Today is Sunday\n",
      "Today is Sunday\n",
      "Today is Sunday\n",
      "Today is Sunday\n",
      "Today is Sunday\n",
      "Today is Sunday\n",
      "Today is Sunday\n",
      "Today is Sunday\n",
      "Today is Sunday\n",
      "Today is Sunday\n",
      "Today is Sunday\n",
      "Today is Sunday\n",
      "Today is Sunday\n",
      "Today is Sunday\n",
      "Today is Sunday\n",
      "Today is Sunday\n",
      "Today is Sunday\n",
      "Today is Sunday\n",
      "Today is Sunday\n",
      "Today is Sunday\n",
      "Today is Sunday\n",
      "Today is Sunday\n",
      "Today is Sunday\n",
      "Today is Sunday\n",
      "Today is Sunday\n",
      "Today is Sunday\n",
      "Today is Sunday\n",
      "Today is Sunday\n",
      "Today is Sunday\n",
      "Today is Sunday\n",
      "Today is Sunday\n",
      "Today is Sunday\n",
      "Today is Sunday\n",
      "Today is Sunday\n",
      "Today is Sunday\n",
      "Today is Sunday\n",
      "Today is Sunday\n",
      "Today is Sunday\n",
      "Today is Sunday\n",
      "Today is Sunday\n",
      "Today is Sunday\n",
      "Today is Sunday\n",
      "Today is Sunday\n",
      "Today is Sunday\n",
      "Today is Sunday\n",
      "Today is Sunday\n",
      "Today is Sunday\n",
      "Today is Sunday\n",
      "Today is Sunday\n",
      "Today is Sunday\n",
      "Today is Sunday\n",
      "Today is Sunday\n",
      "Today is Sunday\n",
      "Today is Sunday\n",
      "Today is Sunday\n",
      "Today is Sunday\n",
      "Today is Sunday\n",
      "Today is Sunday\n",
      "Today is Sunday\n",
      "Today is Sunday\n",
      "Today is Sunday\n",
      "Today is Sunday\n",
      "Today is Sunday\n",
      "Today is Sunday\n",
      "Today is Sunday\n",
      "Today is Sunday\n",
      "Today is Sunday\n",
      "Today is Sunday\n",
      "Today is Sunday\n",
      "Today is Sunday\n",
      "Today is Sunday\n",
      "Today is Sunday\n",
      "Today is Sunday\n",
      "Today is Sunday\n",
      "Today is Sunday\n"
     ]
    }
   ],
   "source": [
    "i = 1\n",
    "while i <= 100:\n",
    "    print(\"Today is Sunday\")\n",
    "    i += 1"
   ]
  },
  {
   "cell_type": "raw",
   "id": "b437bfb2-a097-46e8-a8fb-d3947faed723",
   "metadata": {},
   "source": [
    "The while loop"
   ]
  },
  {
   "cell_type": "code",
   "execution_count": 4,
   "id": "0dc972c6-c713-4e61-8c85-06964fc78148",
   "metadata": {},
   "outputs": [
    {
     "name": "stdout",
     "output_type": "stream",
     "text": [
      "Today is Sunday\n",
      "Today is Sunday\n",
      "Today is Sunday\n",
      "Today is Sunday\n",
      "Today is Sunday\n",
      "Today is Sunday\n",
      "Today is Sunday\n",
      "Today is Sunday\n",
      "Today is Sunday\n",
      "Today is Sunday\n",
      "Today is Sunday\n",
      "Today is Sunday\n",
      "Today is Sunday\n",
      "Today is Sunday\n",
      "Today is Sunday\n",
      "Today is Sunday\n",
      "Today is Sunday\n",
      "Today is Sunday\n",
      "Today is Sunday\n",
      "Today is Sunday\n",
      "Today is Sunday\n",
      "Today is Sunday\n",
      "Today is Sunday\n",
      "Today is Sunday\n",
      "Today is Sunday\n",
      "Today is Sunday\n",
      "Today is Sunday\n",
      "Today is Sunday\n",
      "Today is Sunday\n",
      "Today is Sunday\n",
      "Today is Sunday\n",
      "Today is Sunday\n",
      "Today is Sunday\n",
      "Today is Sunday\n",
      "Today is Sunday\n",
      "Today is Sunday\n",
      "Today is Sunday\n",
      "Today is Sunday\n",
      "Today is Sunday\n",
      "Today is Sunday\n",
      "Today is Sunday\n",
      "Today is Sunday\n",
      "Today is Sunday\n",
      "Today is Sunday\n",
      "Today is Sunday\n",
      "Today is Sunday\n",
      "Today is Sunday\n",
      "Today is Sunday\n",
      "Today is Sunday\n",
      "Today is Sunday\n",
      "Today is Sunday\n",
      "Today is Sunday\n",
      "Today is Sunday\n",
      "Today is Sunday\n",
      "Today is Sunday\n",
      "Today is Sunday\n",
      "Today is Sunday\n",
      "Today is Sunday\n",
      "Today is Sunday\n",
      "Today is Sunday\n",
      "Today is Sunday\n",
      "Today is Sunday\n",
      "Today is Sunday\n",
      "Today is Sunday\n",
      "Today is Sunday\n",
      "Today is Sunday\n",
      "Today is Sunday\n",
      "Today is Sunday\n",
      "Today is Sunday\n",
      "Today is Sunday\n",
      "Today is Sunday\n",
      "Today is Sunday\n",
      "Today is Sunday\n",
      "Today is Sunday\n",
      "Today is Sunday\n",
      "Today is Sunday\n",
      "Today is Sunday\n",
      "Today is Sunday\n",
      "Today is Sunday\n",
      "Today is Sunday\n",
      "Today is Sunday\n",
      "Today is Sunday\n",
      "Today is Sunday\n",
      "Today is Sunday\n",
      "Today is Sunday\n",
      "Today is Sunday\n",
      "Today is Sunday\n",
      "Today is Sunday\n",
      "Today is Sunday\n",
      "Today is Sunday\n",
      "Today is Sunday\n",
      "Today is Sunday\n",
      "Today is Sunday\n",
      "Today is Sunday\n",
      "Today is Sunday\n",
      "Today is Sunday\n",
      "Today is Sunday\n",
      "Today is Sunday\n",
      "Today is Sunday\n",
      "Today is Sunday\n"
     ]
    }
   ],
   "source": [
    "i = 1\n",
    "while i <= 100:\n",
    "    print(\"Today is Sunday\")\n",
    "    i += 1"
   ]
  },
  {
   "cell_type": "code",
   "execution_count": 2,
   "id": "10094227-32d0-42c9-9cf5-101e8bb2bf9d",
   "metadata": {},
   "outputs": [
    {
     "name": "stdin",
     "output_type": "stream",
     "text": [
      "Enter temperature in Fahrenheit:  43\n"
     ]
    },
    {
     "name": "stdout",
     "output_type": "stream",
     "text": [
      "43.00 °F is same as 6.11 °C\n"
     ]
    },
    {
     "name": "stdin",
     "output_type": "stream",
     "text": [
      "\n",
      "Want to calculate more: ? Press y for Yes, n for N:  y\n",
      "Enter temperature in Fahrenheit:  55\n"
     ]
    },
    {
     "name": "stdout",
     "output_type": "stream",
     "text": [
      "55.00 °F is same as 12.78 °C\n"
     ]
    },
    {
     "name": "stdin",
     "output_type": "stream",
     "text": [
      "\n",
      "Want to calculate more: ? Press y for Yes, n for N:  y\n",
      "Enter temperature in Fahrenheit:  66\n"
     ]
    },
    {
     "name": "stdout",
     "output_type": "stream",
     "text": [
      "66.00 °F is same as 18.89 °C\n"
     ]
    },
    {
     "name": "stdin",
     "output_type": "stream",
     "text": [
      "\n",
      "Want to calculate more: ? Press y for Yes, n for N:  y\n",
      "Enter temperature in Fahrenheit:  44\n"
     ]
    },
    {
     "name": "stdout",
     "output_type": "stream",
     "text": [
      "44.00 °F is same as 6.67 °C\n"
     ]
    },
    {
     "name": "stdin",
     "output_type": "stream",
     "text": [
      "\n",
      "Want to calculate more: ? Press y for Yes, n for N:  n\n"
     ]
    },
    {
     "name": "stdout",
     "output_type": "stream",
     "text": [
      "Program Ends\n"
     ]
    }
   ],
   "source": [
    "keep_calculating = 'y'\n",
    "\n",
    "while keep_calculating == 'y':\n",
    "\n",
    "    fah = int(input(\"Enter temperature in Fahrenheit: \"))\n",
    "    cel = (fah - 32) * 5/9\n",
    "    print(format(fah, \"0.2f\"), \"°F is same as\", format(cel, \"0.2f\"), \"°C\")\n",
    "\n",
    "    keep_calculating = input(\"\\nWant to calculate more: ? Press y for Yes, n for N: \")\n",
    "\n",
    "\n",
    "print(\"Program Ends\")\n",
    "\n"
   ]
  },
  {
   "cell_type": "raw",
   "id": "0c518e60-f194-481e-b048-0102b77e5654",
   "metadata": {},
   "source": [
    "The for loop"
   ]
  },
  {
   "cell_type": "code",
   "execution_count": 3,
   "id": "5afab3ea-f114-4ccf-8cc9-666fc18969d7",
   "metadata": {},
   "outputs": [
    {
     "name": "stdout",
     "output_type": "stream",
     "text": [
      "11\n",
      "44\n",
      "77\n",
      "33\n",
      "199\n"
     ]
    },
    {
     "data": {
      "text/plain": [
       "199"
      ]
     },
     "execution_count": 3,
     "metadata": {},
     "output_type": "execute_result"
    }
   ],
   "source": [
    ">>>\n",
    ">>> for i in [11, 44, 77, 33, 199]:\n",
    "...     print(i)\n",
    "...\n",
    "11\n",
    "44\n",
    "77\n",
    "33\n",
    "199\n",
    ">>>"
   ]
  },
  {
   "cell_type": "code",
   "execution_count": 6,
   "id": "9ba36743-79be-4ac1-bed7-8e8b2af5f563",
   "metadata": {},
   "outputs": [
    {
     "name": "stdout",
     "output_type": "stream",
     "text": [
      "0\n",
      "1\n",
      "2\n",
      "3\n",
      "4\n"
     ]
    },
    {
     "data": {
      "text/plain": [
       "4"
      ]
     },
     "execution_count": 6,
     "metadata": {},
     "output_type": "execute_result"
    }
   ],
   "source": [
    ">>>\n",
    ">>> for i in range(5):\n",
    "...   print(i)\n",
    "...\n",
    "0\n",
    "1\n",
    "2\n",
    "3\n",
    "4\n",
    ">>>"
   ]
  },
  {
   "cell_type": "code",
   "execution_count": 7,
   "id": "3b9a09d3-534b-46c5-bc4c-16fc5f1ccfe3",
   "metadata": {},
   "outputs": [
    {
     "name": "stdout",
     "output_type": "stream",
     "text": [
      "0\n",
      "1\n",
      "2\n",
      "3\n",
      "4\n"
     ]
    },
    {
     "data": {
      "text/plain": [
       "4"
      ]
     },
     "execution_count": 7,
     "metadata": {},
     "output_type": "execute_result"
    }
   ],
   "source": [
    ">>>\n",
    ">>> for i in [0, 1, 2, 3, 4]:\n",
    "...   print(i)\n",
    "...\n",
    "0\n",
    "1\n",
    "2\n",
    "3\n",
    "4\n",
    ">>>"
   ]
  },
  {
   "cell_type": "code",
   "execution_count": 8,
   "id": "6b284099-53bd-4b65-befa-5799c5f10963",
   "metadata": {},
   "outputs": [
    {
     "name": "stdout",
     "output_type": "stream",
     "text": [
      "10\n",
      "11\n",
      "12\n",
      "13\n",
      "14\n",
      "15\n",
      "16\n",
      "17\n",
      "18\n",
      "19\n"
     ]
    },
    {
     "data": {
      "text/plain": [
       "19"
      ]
     },
     "execution_count": 8,
     "metadata": {},
     "output_type": "execute_result"
    }
   ],
   "source": [
    ">>>\n",
    ">>> for i in range(10, 20):\n",
    "...   print(i)\n",
    "...\n",
    "10\n",
    "11\n",
    "12\n",
    "13\n",
    "14\n",
    "15\n",
    "16\n",
    "17\n",
    "18\n",
    "19\n",
    ">>>"
   ]
  },
  {
   "cell_type": "code",
   "execution_count": 9,
   "id": "628469ac-b3b5-4221-b020-c53d5a37fb8d",
   "metadata": {},
   "outputs": [
    {
     "name": "stdout",
     "output_type": "stream",
     "text": [
      "10\n",
      "13\n",
      "16\n",
      "19\n"
     ]
    },
    {
     "data": {
      "text/plain": [
       "19"
      ]
     },
     "execution_count": 9,
     "metadata": {},
     "output_type": "execute_result"
    }
   ],
   "source": [
    ">>>\n",
    ">>> for i in range(10, 20, 3):  # step value is 3\n",
    "...   print(i)\n",
    "...\n",
    "10\n",
    "13\n",
    "16\n",
    "19\n",
    ">>>"
   ]
  },
  {
   "cell_type": "code",
   "execution_count": 10,
   "id": "0a57aa58-f87f-4bf0-b792-13c75ce3d5d2",
   "metadata": {},
   "outputs": [
    {
     "name": "stdout",
     "output_type": "stream",
     "text": [
      "50\n",
      "45\n",
      "40\n",
      "35\n",
      "30\n",
      "25\n",
      "20\n",
      "15\n",
      "10\n",
      "5\n"
     ]
    },
    {
     "data": {
      "text/plain": [
       "5"
      ]
     },
     "execution_count": 10,
     "metadata": {},
     "output_type": "execute_result"
    }
   ],
   "source": [
    ">>>\n",
    ">>> for i in range(50, 0, -5):\n",
    "...    print(i)\n",
    "...\n",
    "50\n",
    "45\n",
    "40\n",
    "35\n",
    "30\n",
    "25\n",
    "20\n",
    "15\n",
    "10\n",
    "5\n",
    ">>>"
   ]
  },
  {
   "cell_type": "code",
   "execution_count": 11,
   "id": "e9baf905-0726-498f-9468-5a874f578efc",
   "metadata": {},
   "outputs": [
    {
     "name": "stdout",
     "output_type": "stream",
     "text": [
      "Number\t | Square\n",
      "--------------------\n",
      "1 \t\t |  1\n",
      "2 \t\t |  4\n",
      "3 \t\t |  9\n",
      "4 \t\t |  16\n",
      "5 \t\t |  25\n",
      "6 \t\t |  36\n",
      "7 \t\t |  49\n",
      "8 \t\t |  64\n",
      "9 \t\t |  81\n",
      "10 \t\t |  100\n",
      "11 \t\t |  121\n",
      "12 \t\t |  144\n",
      "13 \t\t |  169\n",
      "14 \t\t |  196\n",
      "15 \t\t |  225\n",
      "16 \t\t |  256\n",
      "17 \t\t |  289\n",
      "18 \t\t |  324\n",
      "19 \t\t |  361\n",
      "20 \t\t |  400\n"
     ]
    }
   ],
   "source": [
    "print(\"Number\\t | Square\")\n",
    "print(\"--------------------\")\n",
    "\n",
    "for num in range(1, 21):\n",
    "    print(num, \"\\t\\t | \", num*num)"
   ]
  },
  {
   "cell_type": "code",
   "execution_count": null,
   "id": "4a6f0130-003f-4428-ac95-2d4ae3de5bc1",
   "metadata": {},
   "outputs": [],
   "source": []
  }
 ],
 "metadata": {
  "kernelspec": {
   "display_name": "Python 3 (ipykernel)",
   "language": "python",
   "name": "python3"
  },
  "language_info": {
   "codemirror_mode": {
    "name": "ipython",
    "version": 3
   },
   "file_extension": ".py",
   "mimetype": "text/x-python",
   "name": "python",
   "nbconvert_exporter": "python",
   "pygments_lexer": "ipython3",
   "version": "3.12.3"
  }
 },
 "nbformat": 4,
 "nbformat_minor": 5
}
